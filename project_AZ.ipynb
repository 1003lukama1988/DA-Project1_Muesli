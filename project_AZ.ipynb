{
 "cells": [
  {
   "cell_type": "code",
   "execution_count": 176,
   "metadata": {},
   "outputs": [],
   "source": [
    "import pandas as pd\n",
    "import matplotlib.pyplot as plt\n",
    "import calendar\n",
    "from datetime import datetime \n"
   ]
  },
  {
   "cell_type": "code",
   "execution_count": 177,
   "metadata": {},
   "outputs": [],
   "source": [
    "#functions\n",
    "#get weekday\n",
    "def weekday(date):  \n",
    "    return calendar.day_name[date.weekday()] \n",
    "\n",
    "#Adding days to date\n",
    "def add_days_to_date(date,days):\n",
    "    return date + datetime.timedelta(days=days)"
   ]
  },
  {
   "cell_type": "code",
   "execution_count": 178,
   "metadata": {},
   "outputs": [],
   "source": [
    "df = pd.read_csv(\"5 - Muesli Project raw data - Orders.csv\", header = 1)\n",
    "df2 = pd.read_csv(\"5 - DF2 Muesli Project raw data - Order Process Data.csv\")\n",
    "warehouse_workdays = [\"Monday\", \"Tuesday\",\"Wednesday\",\"Thursday\",\"Friday\"]\n",
    "transport_workdays = [\"Monday\",\"Wednesday\",\"Friday\"]\n",
    "warehousestorage_time = 1\n",
    "warehouse_prep_time = 2\n",
    "express = warehousestorage_time\n",
    "no_express = warehousestorage_time + warehouse_prep_time"
   ]
  },
  {
   "cell_type": "code",
   "execution_count": 179,
   "metadata": {},
   "outputs": [],
   "source": [
    "#adjust column names\n",
    "df.columns = df.columns.str.replace(\" \",\"_\")\n",
    "df.columns = map(str.lower, df.columns)"
   ]
  },
  {
   "cell_type": "code",
   "execution_count": 180,
   "metadata": {},
   "outputs": [],
   "source": [
    "df2.columns = df2.columns.str.replace(\" \",\"_\")\n",
    "df2.columns = map(str.lower, df2.columns)"
   ]
  },
  {
   "cell_type": "code",
   "execution_count": 181,
   "metadata": {},
   "outputs": [
    {
     "data": {
      "text/html": [
       "<div>\n",
       "<style scoped>\n",
       "    .dataframe tbody tr th:only-of-type {\n",
       "        vertical-align: middle;\n",
       "    }\n",
       "\n",
       "    .dataframe tbody tr th {\n",
       "        vertical-align: top;\n",
       "    }\n",
       "\n",
       "    .dataframe thead th {\n",
       "        text-align: right;\n",
       "    }\n",
       "</style>\n",
       "<table border=\"1\" class=\"dataframe\">\n",
       "  <thead>\n",
       "    <tr style=\"text-align: right;\">\n",
       "      <th></th>\n",
       "      <th>index</th>\n",
       "      <th>order_id</th>\n",
       "      <th>order_date</th>\n",
       "      <th>customer_id</th>\n",
       "      <th>customer_name</th>\n",
       "      <th>origin_channel</th>\n",
       "      <th>country/region</th>\n",
       "      <th>city</th>\n",
       "      <th>state</th>\n",
       "      <th>postal_code</th>\n",
       "      <th>region</th>\n",
       "      <th>category</th>\n",
       "      <th>sub-category</th>\n",
       "      <th>product_id</th>\n",
       "      <th>sales</th>\n",
       "      <th>quantity</th>\n",
       "      <th>discount</th>\n",
       "      <th>profit</th>\n",
       "      <th>ship_mode</th>\n",
       "    </tr>\n",
       "  </thead>\n",
       "  <tbody>\n",
       "    <tr>\n",
       "      <th>0</th>\n",
       "      <td>27</td>\n",
       "      <td>CA-2019-121755</td>\n",
       "      <td>16/1/2019</td>\n",
       "      <td>EH-13945</td>\n",
       "      <td>Eric Hoffmann</td>\n",
       "      <td>Email</td>\n",
       "      <td>United States</td>\n",
       "      <td>Los Angeles</td>\n",
       "      <td>California</td>\n",
       "      <td>90049.0</td>\n",
       "      <td>West</td>\n",
       "      <td>Special Projects Muesil</td>\n",
       "      <td>Gluten Free</td>\n",
       "      <td>TEC-AC-10003027</td>\n",
       "      <td>90.57</td>\n",
       "      <td>3</td>\n",
       "      <td>0.0</td>\n",
       "      <td>11.7741</td>\n",
       "      <td>Standard Processing</td>\n",
       "    </tr>\n",
       "    <tr>\n",
       "      <th>1</th>\n",
       "      <td>27</td>\n",
       "      <td>CA-2019-121755</td>\n",
       "      <td>16/1/2019</td>\n",
       "      <td>EH-13945</td>\n",
       "      <td>Eric Hoffmann</td>\n",
       "      <td>Email</td>\n",
       "      <td>United States</td>\n",
       "      <td>Los Angeles</td>\n",
       "      <td>California</td>\n",
       "      <td>90049.0</td>\n",
       "      <td>West</td>\n",
       "      <td>Special Projects Muesil</td>\n",
       "      <td>Gluten Free</td>\n",
       "      <td>TEC-AC-10003027</td>\n",
       "      <td>90.57</td>\n",
       "      <td>3</td>\n",
       "      <td>0.0</td>\n",
       "      <td>11.7741</td>\n",
       "      <td>Standard Processing</td>\n",
       "    </tr>\n",
       "    <tr>\n",
       "      <th>2</th>\n",
       "      <td>45</td>\n",
       "      <td>CA-2019-118255</td>\n",
       "      <td>11/3/2019</td>\n",
       "      <td>ON-18715</td>\n",
       "      <td>Odella Nelson</td>\n",
       "      <td>Sales</td>\n",
       "      <td>United States</td>\n",
       "      <td>Eagan</td>\n",
       "      <td>Minnesota</td>\n",
       "      <td>55122.0</td>\n",
       "      <td>Central</td>\n",
       "      <td>Special Projects Muesil</td>\n",
       "      <td>Gluten Free</td>\n",
       "      <td>TEC-AC-10000171</td>\n",
       "      <td>45.98</td>\n",
       "      <td>2</td>\n",
       "      <td>0.0</td>\n",
       "      <td>19.7714</td>\n",
       "      <td>Express</td>\n",
       "    </tr>\n",
       "    <tr>\n",
       "      <th>3</th>\n",
       "      <td>45</td>\n",
       "      <td>CA-2019-118255</td>\n",
       "      <td>11/3/2019</td>\n",
       "      <td>ON-18715</td>\n",
       "      <td>Odella Nelson</td>\n",
       "      <td>Sales</td>\n",
       "      <td>United States</td>\n",
       "      <td>Eagan</td>\n",
       "      <td>Minnesota</td>\n",
       "      <td>55122.0</td>\n",
       "      <td>Central</td>\n",
       "      <td>Special Projects Muesil</td>\n",
       "      <td>Gluten Free</td>\n",
       "      <td>TEC-AC-10000171</td>\n",
       "      <td>45.98</td>\n",
       "      <td>2</td>\n",
       "      <td>0.0</td>\n",
       "      <td>19.7714</td>\n",
       "      <td>Express</td>\n",
       "    </tr>\n",
       "    <tr>\n",
       "      <th>4</th>\n",
       "      <td>48</td>\n",
       "      <td>CA-2019-169194</td>\n",
       "      <td>20/6/2019</td>\n",
       "      <td>LH-16900</td>\n",
       "      <td>Lena Hernandez</td>\n",
       "      <td>Email</td>\n",
       "      <td>United States</td>\n",
       "      <td>Dover</td>\n",
       "      <td>Delaware</td>\n",
       "      <td>19901.0</td>\n",
       "      <td>East</td>\n",
       "      <td>Special Projects Muesil</td>\n",
       "      <td>Gluten Free</td>\n",
       "      <td>TEC-AC-10002167</td>\n",
       "      <td>45.00</td>\n",
       "      <td>3</td>\n",
       "      <td>0.0</td>\n",
       "      <td>4.9500</td>\n",
       "      <td>Standard Processing</td>\n",
       "    </tr>\n",
       "  </tbody>\n",
       "</table>\n",
       "</div>"
      ],
      "text/plain": [
       "   index        order_id order_date customer_id   customer_name  \\\n",
       "0     27  CA-2019-121755  16/1/2019    EH-13945   Eric Hoffmann   \n",
       "1     27  CA-2019-121755  16/1/2019    EH-13945   Eric Hoffmann   \n",
       "2     45  CA-2019-118255  11/3/2019    ON-18715   Odella Nelson   \n",
       "3     45  CA-2019-118255  11/3/2019    ON-18715   Odella Nelson   \n",
       "4     48  CA-2019-169194  20/6/2019    LH-16900  Lena Hernandez   \n",
       "\n",
       "  origin_channel country/region         city       state  postal_code  \\\n",
       "0          Email  United States  Los Angeles  California      90049.0   \n",
       "1          Email  United States  Los Angeles  California      90049.0   \n",
       "2          Sales  United States        Eagan   Minnesota      55122.0   \n",
       "3          Sales  United States        Eagan   Minnesota      55122.0   \n",
       "4          Email  United States        Dover    Delaware      19901.0   \n",
       "\n",
       "    region                 category sub-category       product_id  sales  \\\n",
       "0     West  Special Projects Muesil  Gluten Free  TEC-AC-10003027  90.57   \n",
       "1     West  Special Projects Muesil  Gluten Free  TEC-AC-10003027  90.57   \n",
       "2  Central  Special Projects Muesil  Gluten Free  TEC-AC-10000171  45.98   \n",
       "3  Central  Special Projects Muesil  Gluten Free  TEC-AC-10000171  45.98   \n",
       "4     East  Special Projects Muesil  Gluten Free  TEC-AC-10002167  45.00   \n",
       "\n",
       "   quantity  discount   profit            ship_mode  \n",
       "0         3       0.0  11.7741  Standard Processing  \n",
       "1         3       0.0  11.7741  Standard Processing  \n",
       "2         2       0.0  19.7714              Express  \n",
       "3         2       0.0  19.7714              Express  \n",
       "4         3       0.0   4.9500  Standard Processing  "
      ]
     },
     "execution_count": 181,
     "metadata": {},
     "output_type": "execute_result"
    }
   ],
   "source": [
    "#merging both df\n",
    "df = df.drop('ship_mode', axis=1)\n",
    "df2 = df2[['order_id', 'ship_mode']]\n",
    "df = df.merge(df2, on='order_id', how='left')\n",
    "\n",
    "df.head()"
   ]
  },
  {
   "cell_type": "code",
   "execution_count": 182,
   "metadata": {},
   "outputs": [],
   "source": [
    "#order_date into date\n",
    "df[\"order_date\"] = df[\"order_date\"].apply(lambda date: datetime.strptime(str(date), \"%d/%m/%Y\"))"
   ]
  },
  {
   "cell_type": "code",
   "execution_count": 183,
   "metadata": {},
   "outputs": [
    {
     "data": {
      "text/plain": [
       "(21620, 19)"
      ]
     },
     "execution_count": 183,
     "metadata": {},
     "output_type": "execute_result"
    }
   ],
   "source": [
    "df.shape"
   ]
  },
  {
   "cell_type": "code",
   "execution_count": 184,
   "metadata": {},
   "outputs": [
    {
     "data": {
      "text/plain": [
       "Index(['index', 'order_id', 'order_date', 'customer_id', 'customer_name',\n",
       "       'origin_channel', 'country/region', 'city', 'state', 'postal_code',\n",
       "       'region', 'category', 'sub-category', 'product_id', 'sales', 'quantity',\n",
       "       'discount', 'profit', 'ship_mode'],\n",
       "      dtype='object')"
      ]
     },
     "execution_count": 184,
     "metadata": {},
     "output_type": "execute_result"
    }
   ],
   "source": [
    "df.columns\n"
   ]
  },
  {
   "cell_type": "code",
   "execution_count": 185,
   "metadata": {},
   "outputs": [
    {
     "name": "stdout",
     "output_type": "stream",
     "text": [
      "<class 'pandas.core.frame.DataFrame'>\n",
      "Int64Index: 21620 entries, 0 to 21619\n",
      "Data columns (total 19 columns):\n",
      " #   Column          Non-Null Count  Dtype         \n",
      "---  ------          --------------  -----         \n",
      " 0   index           21620 non-null  int64         \n",
      " 1   order_id        21620 non-null  object        \n",
      " 2   order_date      21620 non-null  datetime64[ns]\n",
      " 3   customer_id     21620 non-null  object        \n",
      " 4   customer_name   21620 non-null  object        \n",
      " 5   origin_channel  21620 non-null  object        \n",
      " 6   country/region  21620 non-null  object        \n",
      " 7   city            21620 non-null  object        \n",
      " 8   state           21620 non-null  object        \n",
      " 9   postal_code     21591 non-null  float64       \n",
      " 10  region          21620 non-null  object        \n",
      " 11  category        21620 non-null  object        \n",
      " 12  sub-category    21620 non-null  object        \n",
      " 13  product_id      21620 non-null  object        \n",
      " 14  sales           21620 non-null  float64       \n",
      " 15  quantity        21620 non-null  int64         \n",
      " 16  discount        21620 non-null  float64       \n",
      " 17  profit          21620 non-null  float64       \n",
      " 18  ship_mode       17525 non-null  object        \n",
      "dtypes: datetime64[ns](1), float64(4), int64(2), object(12)\n",
      "memory usage: 3.3+ MB\n"
     ]
    }
   ],
   "source": [
    "df.info()"
   ]
  },
  {
   "cell_type": "code",
   "execution_count": 186,
   "metadata": {},
   "outputs": [],
   "source": [
    "#create column: Weekdays of order_date\n",
    "df[\"order_date_weekday\"] = df[\"order_date\"].apply(lambda date: weekday(date))"
   ]
  },
  {
   "cell_type": "code",
   "execution_count": 187,
   "metadata": {},
   "outputs": [
    {
     "data": {
      "text/plain": [
       "array(['Wednesday', 'Monday', 'Thursday', 'Saturday', 'Tuesday', 'Friday',\n",
       "       'Sunday'], dtype=object)"
      ]
     },
     "execution_count": 187,
     "metadata": {},
     "output_type": "execute_result"
    }
   ],
   "source": [
    "#check\n",
    "df.order_date_weekday.unique()"
   ]
  },
  {
   "cell_type": "code",
   "execution_count": 188,
   "metadata": {},
   "outputs": [],
   "source": [
    "#delivery day: adding days whether express or not\n",
    "import datetime\n",
    "df[\"order_express_considered\"] = df.apply(lambda x: add_days_to_date(x[\"order_date\"],express) if x[\"ship_mode\"] == \"Express\" else add_days_to_date(x[\"order_date\"],no_express), axis = 1 )"
   ]
  },
  {
   "cell_type": "code",
   "execution_count": 189,
   "metadata": {},
   "outputs": [],
   "source": [
    "#delivery day: adding days whether order date is on warehouse workdays\n",
    "df[\"order_leaving_warehouse\"] = df.apply(lambda x: add_days_to_date(x[\"order_express_considered\"],days =2) if x[\"order_date_weekday\"] == \"Saturday\" else add_days_to_date(x[\"order_express_considered\"],days =1) if x[\"order_date_weekday\"] == \"Sunday\" else x[\"order_express_considered\"], axis = 1)"
   ]
  },
  {
   "cell_type": "code",
   "execution_count": 190,
   "metadata": {},
   "outputs": [],
   "source": [
    "#adding new weekday column for \"order_leaving_warehouse\"\n",
    "df[\"order_leaving_warehouse_weekday\"] = df[\"order_leaving_warehouse\"].apply(lambda date: weekday(date))"
   ]
  },
  {
   "cell_type": "code",
   "execution_count": 191,
   "metadata": {},
   "outputs": [],
   "source": [
    "#delivery day: adding days considering logistics\n",
    "df[\"delivery_day\"] = df.apply(lambda x: add_days_to_date(x[\"order_leaving_warehouse\"],days =5) if x[\"order_leaving_warehouse_weekday\"] == \"Wednesday\" else add_days_to_date(x[\"order_leaving_warehouse\"],days =3) if x[\"order_leaving_warehouse_weekday\"] == \"Monday\" else add_days_to_date(x[\"order_leaving_warehouse\"],days =6) if x[\"order_leaving_warehouse_weekday\"] == \"Tuesday\" else add_days_to_date(x[\"order_leaving_warehouse\"],days =4) if x[\"order_leaving_warehouse_weekday\"] == \"Thursday\" else add_days_to_date(x[\"order_leaving_warehouse\"],days =3) if x[\"order_leaving_warehouse_weekday\"] == \"Friday\" else add_days_to_date(x[\"order_leaving_warehouse\"],days =5) if x[\"order_leaving_warehouse_weekday\"] == \"Saturday\" else add_days_to_date(x[\"order_leaving_warehouse\"],days =4) if x[\"order_leaving_warehouse_weekday\"] == \"Sunday\" else \"\", axis = 1)"
   ]
  },
  {
   "cell_type": "code",
   "execution_count": 192,
   "metadata": {},
   "outputs": [],
   "source": [
    "#delivery_time calculation\n",
    "df[\"delivery_time[days]\"] = df.apply(lambda x : x[\"delivery_day\"] - x[\"order_date\"], axis = 1)"
   ]
  },
  {
   "cell_type": "code",
   "execution_count": 193,
   "metadata": {},
   "outputs": [
    {
     "data": {
      "text/plain": [
       "array(['Standard Processing', 'Express', nan], dtype=object)"
      ]
     },
     "execution_count": 193,
     "metadata": {},
     "output_type": "execute_result"
    }
   ],
   "source": [
    "#check\n",
    "df.ship_mode.unique()"
   ]
  }
 ],
 "metadata": {
  "kernelspec": {
   "display_name": "Python 3.9.12 ('nf_base')",
   "language": "python",
   "name": "python3"
  },
  "language_info": {
   "codemirror_mode": {
    "name": "ipython",
    "version": 3
   },
   "file_extension": ".py",
   "mimetype": "text/x-python",
   "name": "python",
   "nbconvert_exporter": "python",
   "pygments_lexer": "ipython3",
   "version": "3.9.12"
  },
  "orig_nbformat": 4,
  "vscode": {
   "interpreter": {
    "hash": "ab3d85a18739f6fff6a9c8c504adc2ff9340867b576dede986e2ee74c099e4e5"
   }
  }
 },
 "nbformat": 4,
 "nbformat_minor": 2
}
